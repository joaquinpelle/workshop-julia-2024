{
 "cells": [
  {
   "cell_type": "markdown",
   "metadata": {},
   "source": [
    "# Rasgos"
   ]
  },
  {
   "cell_type": "markdown",
   "metadata": {},
   "source": [
    "Las posibilidades que ofrece el despacho múltiple en combinación con la riqueza ilimitada del sistema de tipos son enormes.\n",
    "\n",
    "Uno de los patrones más comunes en el desarrollo de código en Julia es el de los **Tim Holy traits** o **rasgos**, nombrado así en honor a su [descubridor](https://github.com/JuliaLang/julia/issues/2345#issuecomment-54537633) (¿o creador...?).\n",
    "\n",
    "Los rasgos representan comportamientos que un tipo puede tener. En un ejemplo como el del Notebook anterior, tanto un `Aguila` como un `Murcielago` pueden volar y caminar. Un pingüino puede caminar y nadar, pero no puede volar. En cambio, un `Pato` puede volar, nadar y caminar. Típicamente, los rasgos son binarios: un tipo puede tenerlo o no tenerlo.\n",
    "\n",
    "Los rasgos ofrecen una forma de extender y complejizar el sistema de tipos y sus comportamientos sin tener que modificar la base.  \n",
    "\n",
    "Definamos nuevamente los tipos del Notebook anterior: "
   ]
  },
  {
   "cell_type": "code",
   "execution_count": 2,
   "metadata": {},
   "outputs": [],
   "source": [
    "abstract type Animal end\n",
    "\n",
    "abstract type Mamifero <: Animal end\n",
    "abstract type Ave <: Animal end\n",
    "abstract type Reptil <: Animal end\n",
    "abstract type Anfibio <: Animal end\n",
    "abstract type Insecto <: Animal end"
   ]
  },
  {
   "cell_type": "code",
   "execution_count": 11,
   "metadata": {},
   "outputs": [],
   "source": [
    "mutable struct Aguila <: Ave\n",
    "    x::Float64\n",
    "    y::Float64\n",
    "    z::Float64\n",
    "end\n",
    "\n",
    "mutable struct Murcielago <: Mamifero\n",
    "    x::Float64\n",
    "    y::Float64\n",
    "    z::Float64\n",
    "end\n",
    "\n",
    "mutable struct Pinguino <: Ave\n",
    "    x::Float64\n",
    "    y::Float64\n",
    "end"
   ]
  },
  {
   "cell_type": "markdown",
   "metadata": {},
   "source": [
    "Supongamos que queremos definir una función\n",
    "\n",
    "```julia\n",
    "volar!(a::Animal, pos::Vector{Float64})\n",
    "```\n",
    "\n",
    "que lleve al animal `a` volando a la nueva posición `pos`, si es que el animal puede volar\n",
    "\n",
    "La solución más rudimentaria sería"
   ]
  },
  {
   "cell_type": "code",
   "execution_count": 1,
   "metadata": {},
   "outputs": [
    {
     "ename": "UndefVarError",
     "evalue": "UndefVarError: `Animal` not defined",
     "output_type": "error",
     "traceback": [
      "UndefVarError: `Animal` not defined\n",
      "\n",
      "Stacktrace:\n",
      " [1] top-level scope\n",
      "   @ c:\\Users\\pelle\\repos\\workshop-julia\\jl_notebook_cell_df34fa98e69747e1a8f8a730347b8e2f_W5sZmlsZQ==.jl:1"
     ]
    }
   ],
   "source": [
    "puede_volar(a::Animal) = false # Por defecto, no puede volar\n",
    "puede_volar(a::Aguila) = true\n",
    "\n",
    "function volar_if!(a::Animal, pos::Vector{Float64})\n",
    "    if puede_volar(animal)\n",
    "        animal.x = pos[1]\n",
    "        animal.y = pos[2]\n",
    "        println(\"Volando a \", pos)\n",
    "    else\n",
    "        error(\"No puede volar\")\n",
    "    end\n",
    "end"
   ]
  },
  {
   "cell_type": "markdown",
   "metadata": {},
   "source": [
    "Sin embargo, esta solución no es buena porque implica un `if` que se resuelve en tiempo de ejecución, cuando queremos que la función compile a una versión lo más específica, y por lo tanto rápida, posible.\n",
    "\n",
    "Lo mejor es usar los tipos para hacer despacho. Otra posibilidad es usar un tipo `Union` para despachar la funcion `volar!` al método específico."
   ]
  },
  {
   "cell_type": "code",
   "execution_count": 14,
   "metadata": {},
   "outputs": [
    {
     "data": {
      "text/plain": [
       "volar_union (generic function with 2 methods)"
      ]
     },
     "execution_count": 14,
     "metadata": {},
     "output_type": "execute_result"
    }
   ],
   "source": [
    "function volar_Union!(a::Union{Aguila, Murcielago}, pos::Vector{Float64})\n",
    "    animal.x = pos[1]\n",
    "    animal.y = pos[2]\n",
    "    println(\"Volando a \", pos)\n",
    "end\n",
    "\n",
    "function volar_Union!(a::Animal, pos::Vector{Float64})\n",
    "    error(\"No puede volar\")\n",
    "end"
   ]
  },
  {
   "cell_type": "markdown",
   "metadata": {},
   "source": [
    "Esta solución es mejor que la anterior, pero no es lo mejor porque para cada nuevo tipo de animal que queramos agregar, debemos acordarnos de agregarlo a la `Union` y modificar la función `volar!`.\n",
    "\n",
    "La solución óptima es usar rasgos. Los definimos de la siguiente manera:"
   ]
  },
  {
   "cell_type": "code",
   "execution_count": 5,
   "metadata": {},
   "outputs": [],
   "source": [
    "abstract type CapacidadDeVuelo end\n",
    "\n",
    "struct PuedeVolar <: CapacidadDeVuelo end\n",
    "struct NoPuedeVolar <: CapacidadDeVuelo end"
   ]
  },
  {
   "cell_type": "markdown",
   "metadata": {},
   "source": [
    "y asignamos los rasgos a los distintos tipos"
   ]
  },
  {
   "cell_type": "code",
   "execution_count": null,
   "metadata": {},
   "outputs": [],
   "source": [
    "capacidad_de_vuelo(a::Animal) = NoPuedeVolar() # Por defecto, los animales no pueden volar\n",
    "capacidad_de_vuelo(a::Aguila) = PuedeVolar()"
   ]
  },
  {
   "cell_type": "markdown",
   "metadata": {},
   "source": [
    "Ahora, podemos definir la función `volar` así:"
   ]
  },
  {
   "cell_type": "code",
   "execution_count": 2,
   "metadata": {},
   "outputs": [
    {
     "ename": "UndefVarError",
     "evalue": "UndefVarError: `Animal` not defined",
     "output_type": "error",
     "traceback": [
      "UndefVarError: `Animal` not defined\n",
      "\n",
      "Stacktrace:\n",
      " [1] top-level scope\n",
      "   @ c:\\Users\\pelle\\repos\\workshop-julia\\jl_notebook_cell_df34fa98e69747e1a8f8a730347b8e2f_X16sZmlsZQ==.jl:1"
     ]
    }
   ],
   "source": [
    "volar!(a::Animal, pos::Vector{Float64}) = volar!(capacidad_de_vuelo(a), a, pos)\n",
    "\n",
    "function volar!(::PuedeVolar, animal::Animal, pos::Vector{Float64})\n",
    "    animal.x = pos[1]\n",
    "    animal.y = pos[2]\n",
    "    println(\"Volando a \", pos)\n",
    "end\n",
    "\n",
    "function volar!(::NoPuedeVolar, animal::Animal, pos::Vector{Float64})\n",
    "    error(\"No puede volar\")\n",
    "end"
   ]
  },
  {
   "cell_type": "markdown",
   "metadata": {},
   "source": [
    "Ahora, cuando queremos agregar un nuevo tipo de animal volador, simplemente definimos un nuevo tipo y le asignamos el rasgo `Volador`. No necesitamos modificar el tipo Union ni la función `volar`."
   ]
  },
  {
   "cell_type": "code",
   "execution_count": 16,
   "metadata": {},
   "outputs": [
    {
     "data": {
      "text/plain": [
       "capacidad_de_vuelo (generic function with 1 method)"
      ]
     },
     "execution_count": 16,
     "metadata": {},
     "output_type": "execute_result"
    }
   ],
   "source": [
    "capacidad_de_vuelo(a::Murcielago) = PuedeVolar()"
   ]
  },
  {
   "cell_type": "markdown",
   "metadata": {},
   "source": [
    "Esto es especialmente ventajoso cuando desarrollamos código para paquetes que pueden ser usados por otros usuarios. Si queremos que los usuarios puedan agregar sus propios tipos de animales, el tipo `Union` no está disponible para extensión, mientras que con el uso de rasgos solo necesitan asignarle los rasgos correspondientes."
   ]
  }
 ],
 "metadata": {
  "kernelspec": {
   "display_name": "Julia 1.10.1",
   "language": "julia",
   "name": "julia-1.10"
  },
  "language_info": {
   "file_extension": ".jl",
   "mimetype": "application/julia",
   "name": "julia",
   "version": "1.10.1"
  }
 },
 "nbformat": 4,
 "nbformat_minor": 2
}
