{
 "cells": [
  {
   "cell_type": "markdown",
   "metadata": {},
   "source": [
    "# Rasgos"
   ]
  },
  {
   "cell_type": "markdown",
   "metadata": {},
   "source": [
    "Las posibilidades que ofrece el despacho múltiple en combinación con la riqueza ilimitada del sistema de tipos son enormes.\n",
    "\n",
    "Uno de los patrones más comunes en el desarrollo de código en Julia es el de los **Tim Holy traits** o **rasgos**, nombrado así en honor a su [descubridor](https://github.com/JuliaLang/julia/issues/2345#issuecomment-54537633) (¿o creador...?).\n",
    "\n",
    "Los rasgos representan comportamientos que un tipo puede tener. En un ejemplo como el del Notebook anterior, tanto un `Aguila` como un `Murcielago` pueden volar y caminar, por lo que ambos tendrían  los rasgos *PuedeVolar* y *PuedeCaminar*. Un pingüino, a pesar de ser un ave, puede caminar y nadar, pero no puede volar. En cambio, un `Pato` puede volar, nadar y caminar. Típicamente, los rasgos son binarios: un tipo puede tenerlos o no tenerlos.\n",
    "\n",
    "Los rasgos ofrecen una forma de extender y complejizar el sistema de tipos y sus comportamientos sin tener que modificar la base preexistente. Para ver las ventajas en un ejemplo concreto, retomemos el ejemplo del Notebook anterior: "
   ]
  },
  {
   "cell_type": "code",
   "execution_count": 2,
   "metadata": {},
   "outputs": [],
   "source": [
    "abstract type Animal end\n",
    "\n",
    "abstract type Mamifero <: Animal end\n",
    "abstract type Ave <: Animal end\n",
    "abstract type Reptil <: Animal end\n",
    "abstract type Anfibio <: Animal end\n",
    "abstract type Insecto <: Animal end"
   ]
  },
  {
   "cell_type": "code",
   "execution_count": 3,
   "metadata": {},
   "outputs": [],
   "source": [
    "mutable struct Aguila <: Ave\n",
    "    x::Float64\n",
    "    y::Float64\n",
    "    z::Float64\n",
    "end\n",
    "\n",
    "mutable struct Murcielago <: Mamifero\n",
    "    x::Float64\n",
    "    y::Float64\n",
    "    z::Float64\n",
    "end\n",
    "\n",
    "mutable struct Pinguino <: Ave\n",
    "    x::Float64\n",
    "    y::Float64\n",
    "end"
   ]
  },
  {
   "cell_type": "markdown",
   "metadata": {},
   "source": [
    "Supongamos que queremos definir una función\n",
    "\n",
    "```julia\n",
    "volar!(a::Animal, pos::Vector{Float64})\n",
    "```\n",
    "\n",
    "que transporte el animal `a` volando a una nueva posición `pos`, si es que el animal puede volar, y que falle en otro caso. No podemos usar el despacho múltiple directamente sobre los tipos que ya hemos definido porque, por ejemplo, como vimos, la capacidad de volar no tiene relación con la jerarquía de tipos establecida: algunas aves pueden volar, pero no todas, y algunos mamíferos pueden volar, pero no todos. \n",
    "\n",
    "Una primera solución rudimentaria podría ser introducir una sentencia `if` dentro de la función `volar!` que verifique si el animal puede volar o no:"
   ]
  },
  {
   "cell_type": "code",
   "execution_count": 4,
   "metadata": {},
   "outputs": [
    {
     "data": {
      "text/plain": [
       "volar_if! (generic function with 1 method)"
      ]
     },
     "metadata": {},
     "output_type": "display_data"
    }
   ],
   "source": [
    "puede_volar(a::Animal) = false # Por defecto, no puede volar\n",
    "puede_volar(a::Aguila) = true\n",
    "\n",
    "function volar_if!(a::Animal, pos::Vector{Float64})\n",
    "    if puede_volar(animal)\n",
    "        animal.x = pos[1]\n",
    "        animal.y = pos[2]\n",
    "        println(\"Volando a \", pos)\n",
    "    else\n",
    "        error(\"No puede volar\")\n",
    "    end\n",
    "end"
   ]
  },
  {
   "cell_type": "markdown",
   "metadata": {},
   "source": [
    "Sin embargo, esta solución no es buena porque implica el `if` se resuelve en tiempo de ejecución, cuando queremos que la función compile a una versión lo más específica, y por lo tanto rápida, posible.\n",
    "\n",
    "Lo mejor es usar los tipos para hacer despacho. Otra posible solución en esa línea es usar un tipo `Union` sobre los animales que pueden volar para despachar la funcion `volar!` a un método específico."
   ]
  },
  {
   "cell_type": "code",
   "execution_count": 5,
   "metadata": {},
   "outputs": [
    {
     "data": {
      "text/plain": [
       "volar_Union! (generic function with 2 methods)"
      ]
     },
     "metadata": {},
     "output_type": "display_data"
    }
   ],
   "source": [
    "function volar_Union!(a::Animal, pos::Vector{Float64}) # Por defecto, no puede volar\n",
    "    error(\"No puede volar\")\n",
    "end\n",
    "\n",
    "function volar_Union!(a::Union{Aguila, Murcielago}, pos::Vector{Float64})\n",
    "    animal.x = pos[1]\n",
    "    animal.y = pos[2]\n",
    "    println(\"Volando a \", pos)\n",
    "end"
   ]
  },
  {
   "cell_type": "markdown",
   "metadata": {},
   "source": [
    "Esta solución es mejor que la anterior, pero no es óptima porque para cada nuevo tipo de animal que queramos agregar, debemos acordarnos de incorporarlo a la `Union` y modificar la función `volar!`.\n",
    "\n",
    "La solución óptima es introducir rasgos, que serán tipos binarios: o se tiene el rasgo o no se lo tiene. Generalmente se los define de la siguiente manera:"
   ]
  },
  {
   "cell_type": "code",
   "execution_count": 7,
   "metadata": {},
   "outputs": [],
   "source": [
    "abstract type CapacidadDeVuelo end\n",
    "\n",
    "struct PuedeVolar <: CapacidadDeVuelo end\n",
    "struct NoPuedeVolar <: CapacidadDeVuelo end"
   ]
  },
  {
   "cell_type": "markdown",
   "metadata": {},
   "source": [
    "y asignamos los rasgos a los distintos tipos"
   ]
  },
  {
   "cell_type": "code",
   "execution_count": 9,
   "metadata": {},
   "outputs": [
    {
     "data": {
      "text/plain": [
       "capacidad_de_vuelo (generic function with 2 methods)"
      ]
     },
     "metadata": {},
     "output_type": "display_data"
    }
   ],
   "source": [
    "capacidad_de_vuelo(a::Animal) = NoPuedeVolar() # Por defecto, no pueden volar\n",
    "capacidad_de_vuelo(a::Aguila) = PuedeVolar()"
   ]
  },
  {
   "cell_type": "markdown",
   "metadata": {},
   "source": [
    "Ahora, podemos definir la función `volar!` introduciendo una redirección a otros métodos que dependan del rasgo:"
   ]
  },
  {
   "cell_type": "code",
   "execution_count": 10,
   "metadata": {},
   "outputs": [
    {
     "data": {
      "text/plain": [
       "volar! (generic function with 1 method)"
      ]
     },
     "metadata": {},
     "output_type": "display_data"
    }
   ],
   "source": [
    "volar!(a::Animal, pos::Vector{Float64}) = volar!(capacidad_de_vuelo(a), a, pos)"
   ]
  },
  {
   "cell_type": "markdown",
   "metadata": {},
   "source": [
    "Y definimos los métodos como:"
   ]
  },
  {
   "cell_type": "code",
   "execution_count": 11,
   "metadata": {},
   "outputs": [
    {
     "data": {
      "text/plain": [
       "volar! (generic function with 3 methods)"
      ]
     },
     "metadata": {},
     "output_type": "display_data"
    }
   ],
   "source": [
    "function volar!(::PuedeVolar, animal::Animal, pos::Vector{Float64})\n",
    "    animal.x = pos[1]\n",
    "    animal.y = pos[2]\n",
    "    println(\"Volando a \", pos)\n",
    "end\n",
    "\n",
    "function volar!(::NoPuedeVolar, animal::Animal, pos::Vector{Float64})\n",
    "    error(\"No puede volar\")\n",
    "end"
   ]
  },
  {
   "cell_type": "markdown",
   "metadata": {},
   "source": [
    "Ahora, cuando queremos agregar un nuevo animal volador al sistema de tipos, simplemente debemos asignarle el rasgo `PuedeVolar` o `NoPuedeVolar` a través de la función `capacidad_de_volar`. No necesitamos modificar un tipo Union ni la función `volar!`, la base de código preexistente permanece igual."
   ]
  },
  {
   "cell_type": "code",
   "execution_count": 16,
   "metadata": {},
   "outputs": [
    {
     "data": {
      "text/plain": [
       "capacidad_de_vuelo (generic function with 1 method)"
      ]
     },
     "execution_count": 16,
     "metadata": {},
     "output_type": "execute_result"
    }
   ],
   "source": [
    "capacidad_de_vuelo(a::Murcielago) = PuedeVolar()"
   ]
  },
  {
   "cell_type": "markdown",
   "metadata": {},
   "source": [
    "Esto es especialmente ventajoso cuando desarrollamos un paquete para ser utilizado por otros usuarios. Si queremos que los usuarios puedan agregar sus propios animales voladores, por ejemplo, el tipo `Union` no estaría disponible para extensión, mientras que con el uso de rasgos solo necesitarán implementar el método `capacidad_de_volar` para ese tipo asignándole el rasgo `PuedeVolar()`."
   ]
  }
 ],
 "metadata": {
  "kernelspec": {
   "display_name": "Julia 1.10.1",
   "language": "julia",
   "name": "julia-1.10"
  },
  "language_info": {
   "file_extension": ".jl",
   "mimetype": "application/julia",
   "name": "julia",
   "version": "1.10.1"
  }
 },
 "nbformat": 4,
 "nbformat_minor": 2
}
