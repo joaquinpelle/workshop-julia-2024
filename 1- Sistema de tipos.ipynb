{
 "cells": [
  {
   "cell_type": "markdown",
   "metadata": {},
   "source": [
    "# Sistema de tipos\n",
    "\n",
    "Dos de los ingredientes más importantes que caracterizan a Julia y permiten que sea un lenguaje rápido son la **inferencia de tipos** y la **especialización de funciones con respecto al tipo**. En conjunto, estos ingredientes permiten el *despacho múltiple*. A primera vista, muchos ven el despacho múltiple solo como algo lindo que viene con el lenguaje, pero, en realidad, se trata de un aspecto esencial con raíces profundas en la base del lenguaje que permiten escribir código rápido.\n",
    "\n",
    "En este contexto, el andamiaje de Julia es su sistema de tipos. Al nivel de la CPU, todos los objetos tienen un tipo. El tipo de un objeto permite interpretar la memoria y saber qué hacer en un llamado a una función. Si no se conoce el tipo de los objetos, no se puede computar nada, ya que la CPU necesita saber cómo interpretar los bits.  Algunos lenguajes son más explícitos acerca de los tipos, y otros tratan de esconder el tipo del usuario. \n",
    "\n",
    "En Julia, **todos los objetos tienen un tipo**:"
   ]
  },
  {
   "cell_type": "code",
   "execution_count": 2,
   "metadata": {},
   "outputs": [
    {
     "data": {
      "text/plain": [
       "Float64"
      ]
     },
     "metadata": {},
     "output_type": "display_data"
    }
   ],
   "source": [
    "typeof(1.0)"
   ]
  },
  {
   "cell_type": "code",
   "execution_count": 3,
   "metadata": {},
   "outputs": [
    {
     "data": {
      "text/plain": [
       "Int64"
      ]
     },
     "metadata": {},
     "output_type": "display_data"
    }
   ],
   "source": [
    "typeof(1)"
   ]
  },
  {
   "cell_type": "code",
   "execution_count": 4,
   "metadata": {},
   "outputs": [
    {
     "data": {
      "text/plain": [
       "String"
      ]
     },
     "metadata": {},
     "output_type": "display_data"
    }
   ],
   "source": [
    "typeof(\"Hola\")"
   ]
  },
  {
   "cell_type": "code",
   "execution_count": 5,
   "metadata": {},
   "outputs": [
    {
     "data": {
      "text/plain": [
       "Symbol"
      ]
     },
     "metadata": {},
     "output_type": "display_data"
    }
   ],
   "source": [
    "typeof(:a)"
   ]
  },
  {
   "cell_type": "markdown",
   "metadata": {},
   "source": [
    "Incluso los tipos son objetos y, por lo tanto, tienen tipo"
   ]
  },
  {
   "cell_type": "code",
   "execution_count": 6,
   "metadata": {},
   "outputs": [
    {
     "data": {
      "text/plain": [
       "DataType"
      ]
     },
     "metadata": {},
     "output_type": "display_data"
    }
   ],
   "source": [
    "typeof(Float64)"
   ]
  },
  {
   "cell_type": "markdown",
   "metadata": {},
   "source": [
    "### Relación de subtipo-supertipo"
   ]
  },
  {
   "cell_type": "markdown",
   "metadata": {},
   "source": [
    "Algunos tipos son subtipo de otros tipos. La relación subitpo-supertipo se designa con el símbolo `<:`\n",
    "\n",
    "Por ejemplo:"
   ]
  },
  {
   "cell_type": "code",
   "execution_count": 9,
   "metadata": {},
   "outputs": [
    {
     "data": {
      "text/plain": [
       "true"
      ]
     },
     "metadata": {},
     "output_type": "display_data"
    }
   ],
   "source": [
    "Int <: Real"
   ]
  },
  {
   "cell_type": "code",
   "execution_count": 8,
   "metadata": {},
   "outputs": [
    {
     "data": {
      "text/plain": [
       "true"
      ]
     },
     "metadata": {},
     "output_type": "display_data"
    }
   ],
   "source": [
    "Real <: Number"
   ]
  },
  {
   "cell_type": "markdown",
   "metadata": {},
   "source": [
    "Todos los tipos son subtipo del tipo `Any`"
   ]
  },
  {
   "cell_type": "code",
   "execution_count": 10,
   "metadata": {},
   "outputs": [
    {
     "data": {
      "text/plain": [
       "true"
      ]
     },
     "metadata": {},
     "output_type": "display_data"
    }
   ],
   "source": [
    "Int <: Any"
   ]
  },
  {
   "cell_type": "code",
   "execution_count": 11,
   "metadata": {},
   "outputs": [
    {
     "data": {
      "text/plain": [
       "true"
      ]
     },
     "metadata": {},
     "output_type": "display_data"
    }
   ],
   "source": [
    "String <: Any"
   ]
  },
  {
   "cell_type": "code",
   "execution_count": 12,
   "metadata": {},
   "outputs": [
    {
     "data": {
      "text/plain": [
       "true"
      ]
     },
     "metadata": {},
     "output_type": "display_data"
    }
   ],
   "source": [
    "Vector{Float64} <: Any"
   ]
  },
  {
   "cell_type": "markdown",
   "metadata": {},
   "source": [
    "La relación `<:` satisface:\n",
    "\n",
    "1. Reflexividad: `A<:A` para todo tipo `A`\n",
    "2. Antisimetría: si `A<:B` y `B<:A`, entonces `A==B` para todo tipo `A` y `B`\n",
    "3. Transitividad: si `A<:B` y `B<:C`, entonces `A<:C` para todo tipo `A`, `B` y `C`\n",
    "\n",
    "Por lo tanto, `<:` es un orden parcial sobre los tipos, con `Any` como máximo. \n",
    "\n",
    "Los tipos puede visualizarse en un diagrama de Hasse. El siguiente es el diagrama de los tipos numéricos en la base de Julia:"
   ]
  },
  {
   "cell_type": "markdown",
   "metadata": {},
   "source": [
    "<div align=\"center\">\n",
    "  <img src=\"./img/tipos.png\" alt=\"Tipos numéricos en Julia\" width=\"850\"/>\n",
    "</div>\n",
    "\n",
    "Crédito de la imagen: [The Julia Express](https://github.com/bkamins/The-Julia-Express)"
   ]
  },
  {
   "cell_type": "markdown",
   "metadata": {},
   "source": [
    "### Tipos abstractos y concretos\n",
    "\n",
    "En Julia, los tipos se clasifican en **abstractos** y **concretos**. Los **tipos abstractos** son solo nodos en el diagrama que sirven para organizar los tipos en una jerarquía. No son isntanciables. Es decir, no se puede construir objetos cuyo tipo sea abstracto.\n",
    "\n",
    "Los tipos abstractos se declaran con `abstract type`. Por ejemplo, así sería la implementación de algunos de los tipos numéricos en Julia:\n",
    "\n",
    "```julia\n",
    "abstract type Number end\n",
    "\n",
    "abstract type Real <: Number end\n",
    "\n",
    "abstract type AbstractFloat <: Real end\n",
    "abstract type Integer <: Real end\n",
    "\n",
    "abstract type Signed <: Integer end\n",
    "abstract type Unsigned <: Integer end\n",
    "```"
   ]
  },
  {
   "cell_type": "markdown",
   "metadata": {},
   "source": [
    "También podemos crear nuevos tipos abstractos:"
   ]
  },
  {
   "cell_type": "code",
   "execution_count": 14,
   "metadata": {},
   "outputs": [],
   "source": [
    "abstract type Bebida end\n",
    "\n",
    "abstract type Cafe <: Bebida end\n",
    "abstract type Te <: Bebida end\n",
    "abstract type Vino <: Bebida end"
   ]
  },
  {
   "cell_type": "markdown",
   "metadata": {},
   "source": [
    "Por otro lado, los **tipos concretos** son los que pueden instanciarse y **no admiten subtipos**. \n",
    "\n",
    "Los tipos concretos permiten organizar datos. Pueden definirse tipos compuestos con `struct`:"
   ]
  },
  {
   "cell_type": "code",
   "execution_count": 15,
   "metadata": {},
   "outputs": [],
   "source": [
    "struct Expreso <: Cafe\n",
    "    marca::String\n",
    "    precio::Float64\n",
    "end"
   ]
  },
  {
   "cell_type": "markdown",
   "metadata": {},
   "source": [
    "Se instancian de la siguiente manera:"
   ]
  },
  {
   "cell_type": "code",
   "execution_count": 16,
   "metadata": {},
   "outputs": [
    {
     "data": {
      "text/plain": [
       "Expreso(\"Cabrales\", 1300.0)"
      ]
     },
     "metadata": {},
     "output_type": "display_data"
    }
   ],
   "source": [
    "Expreso(\"Cabrales\", 1300.0)"
   ]
  },
  {
   "cell_type": "markdown",
   "metadata": {},
   "source": [
    "Y, como dijimos, no admiten subtipos. Si tratamos de definir un tipo como subtipo de uno concreto, Julia arrojará un error:"
   ]
  },
  {
   "cell_type": "code",
   "execution_count": 17,
   "metadata": {},
   "outputs": [
    {
     "ename": "ErrorException",
     "evalue": "invalid subtyping in definition of Ristretto: can only subtype abstract types.",
     "output_type": "error",
     "traceback": [
      "invalid subtyping in definition of Ristretto: can only subtype abstract types.\n",
      "\n",
      "Stacktrace:\n",
      " [1] top-level scope\n",
      "   @ c:\\Users\\pelle\\repos\\workshop-julia-2024\\jl_notebook_cell_df34fa98e69747e1a8f8a730347b8e2f_X34sZmlsZQ==.jl:1"
     ]
    }
   ],
   "source": [
    "struct Ristretto <: Expreso\n",
    "    marca::String\n",
    "    precio::Float64\n",
    "end"
   ]
  },
  {
   "cell_type": "markdown",
   "metadata": {},
   "source": [
    "Cuando se definen con `struct`, los tipos son inmutables:"
   ]
  },
  {
   "cell_type": "code",
   "execution_count": 18,
   "metadata": {},
   "outputs": [
    {
     "ename": "ErrorException",
     "evalue": "setfield!: immutable struct of type Expreso cannot be changed",
     "output_type": "error",
     "traceback": [
      "setfield!: immutable struct of type Expreso cannot be changed\n",
      "\n",
      "Stacktrace:\n",
      " [1] setproperty!(x::Expreso, f::Symbol, v::Int64)\n",
      "   @ Base .\\Base.jl:41\n",
      " [2] top-level scope\n",
      "   @ c:\\Users\\pelle\\repos\\workshop-julia-2024\\jl_notebook_cell_df34fa98e69747e1a8f8a730347b8e2f_X36sZmlsZQ==.jl:3"
     ]
    }
   ],
   "source": [
    "a = Expreso(\"Cabrales\", 1300)\n",
    "\n",
    "a.precio = 1500"
   ]
  },
  {
   "cell_type": "markdown",
   "metadata": {},
   "source": [
    "Usando `mutable struct` en lugar de `struct` podemos definir tipos concretos mutables"
   ]
  },
  {
   "cell_type": "code",
   "execution_count": 19,
   "metadata": {},
   "outputs": [
    {
     "data": {
      "text/plain": [
       "Americano(\"Cabrales\", 1300.0)"
      ]
     },
     "metadata": {},
     "output_type": "display_data"
    }
   ],
   "source": [
    "mutable struct Americano <: Cafe\n",
    "    marca::String\n",
    "    precio::Float64\n",
    "end\n",
    "\n",
    "a = Americano(\"Cabrales\", 1300)"
   ]
  },
  {
   "cell_type": "code",
   "execution_count": 20,
   "metadata": {},
   "outputs": [
    {
     "data": {
      "text/plain": [
       "Americano(\"Cabrales\", 1500.0)"
      ]
     },
     "metadata": {},
     "output_type": "display_data"
    }
   ],
   "source": [
    "a.precio = 1500\n",
    "a"
   ]
  },
  {
   "cell_type": "markdown",
   "metadata": {},
   "source": [
    "Por último, también podemos definir tipos concretos sin campos. Por ejemplo:"
   ]
  },
  {
   "cell_type": "code",
   "execution_count": 21,
   "metadata": {},
   "outputs": [],
   "source": [
    "struct Agua <: Bebida end"
   ]
  },
  {
   "cell_type": "markdown",
   "metadata": {},
   "source": [
    "Esta clase de tipos se denominan *singletons*, ya que solo admiten una única instancia."
   ]
  },
  {
   "cell_type": "code",
   "execution_count": 22,
   "metadata": {},
   "outputs": [
    {
     "data": {
      "text/plain": [
       "true"
      ]
     },
     "metadata": {},
     "output_type": "display_data"
    }
   ],
   "source": [
    "agua1 = Agua()\n",
    "agua2 = Agua()\n",
    "\n",
    "agua1 === agua2"
   ]
  },
  {
   "cell_type": "markdown",
   "metadata": {},
   "source": [
    "donde `===` es el operador de identidad, que verifica si dos variables refieren al mismo objeto (no si son iguales, sino idénticas). Por ejemplo, el famoso `nothing` de Julia es la instancia *singleton* del tipo `Nothing`."
   ]
  }
 ],
 "metadata": {
  "kernelspec": {
   "display_name": "Julia 1.10.1",
   "language": "julia",
   "name": "julia-1.10"
  },
  "language_info": {
   "file_extension": ".jl",
   "mimetype": "application/julia",
   "name": "julia",
   "version": "1.10.1"
  }
 },
 "nbformat": 4,
 "nbformat_minor": 2
}
