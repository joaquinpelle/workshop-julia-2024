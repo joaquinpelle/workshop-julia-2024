{
 "cells": [
  {
   "cell_type": "markdown",
   "metadata": {},
   "source": [
    "# Sistema de tipos\n",
    "\n",
    "Los ingredientes más importantes que caracterizan a Julia y permiten que sea rápido son la **inferencia de tipos** y la **especialización con respecto al tipo**. En conjunto, estos dos ingredientes dan lugar al *despacho múltiple*. Muchos ven esto solo como una característica de Julia, algo que viene con el lenguaje, pero en realidad es un aspecto esencial, con raíces profundas en la base del lenguaje, que permiten que sea rápido.\n",
    "\n",
    "El andamiaje de Julia es su sistema de tipos. El tipo de un objeto permite interpretar la memoria y saber qué hacer en un llamado de una función. Al nivel de la CPU, todos los objetos tienen un tipo, ya que la CPU necesita saber cómo interpretar los bits. Si no se conocen los tipos, no se puede computar nada. Algunos lenguajes son más explícitos acerca de los tipos, y otros tratan de esconder el tipo del usuario. \n",
    "\n",
    "Veamos primero el sistema de tipos de Julia. En Julia, **todos los objetos tienen un tipo** "
   ]
  },
  {
   "cell_type": "code",
   "execution_count": null,
   "metadata": {},
   "outputs": [
    {
     "data": {
      "text/plain": [
       "Float64"
      ]
     },
     "metadata": {},
     "output_type": "display_data"
    }
   ],
   "source": [
    "typeof(1.0)"
   ]
  },
  {
   "cell_type": "code",
   "execution_count": null,
   "metadata": {},
   "outputs": [
    {
     "data": {
      "text/plain": [
       "Int64"
      ]
     },
     "metadata": {},
     "output_type": "display_data"
    }
   ],
   "source": [
    "typeof(1)"
   ]
  },
  {
   "cell_type": "code",
   "execution_count": null,
   "metadata": {},
   "outputs": [
    {
     "data": {
      "text/plain": [
       "String"
      ]
     },
     "metadata": {},
     "output_type": "display_data"
    }
   ],
   "source": [
    "typeof(\"Hola\")"
   ]
  },
  {
   "cell_type": "code",
   "execution_count": null,
   "metadata": {},
   "outputs": [
    {
     "data": {
      "text/plain": [
       "Symbol"
      ]
     },
     "metadata": {},
     "output_type": "display_data"
    }
   ],
   "source": [
    "typeof(:a)"
   ]
  },
  {
   "cell_type": "markdown",
   "metadata": {},
   "source": [
    "Incluso los tipos son objetos y, por lo tanto, tienen tipo"
   ]
  },
  {
   "cell_type": "code",
   "execution_count": null,
   "metadata": {},
   "outputs": [
    {
     "data": {
      "text/plain": [
       "DataType"
      ]
     },
     "metadata": {},
     "output_type": "display_data"
    }
   ],
   "source": [
    "typeof(Float64)"
   ]
  },
  {
   "cell_type": "markdown",
   "metadata": {},
   "source": [
    "### Relación de subtipo-supertipo"
   ]
  },
  {
   "cell_type": "markdown",
   "metadata": {},
   "source": [
    "Algunos tipos son subtipo de otros tipos. La relación subitpo-supertipo se designa con el símbolo `<:`\n",
    "\n",
    "Por ejemplo:"
   ]
  },
  {
   "cell_type": "code",
   "execution_count": null,
   "metadata": {},
   "outputs": [
    {
     "data": {
      "text/plain": [
       "true"
      ]
     },
     "metadata": {},
     "output_type": "display_data"
    }
   ],
   "source": [
    "Int <: Real"
   ]
  },
  {
   "cell_type": "code",
   "execution_count": null,
   "metadata": {},
   "outputs": [
    {
     "data": {
      "text/plain": [
       "true"
      ]
     },
     "metadata": {},
     "output_type": "display_data"
    }
   ],
   "source": [
    "Real <: Number"
   ]
  },
  {
   "cell_type": "markdown",
   "metadata": {},
   "source": [
    "Todos los tipos son subtipo de `Any`"
   ]
  },
  {
   "cell_type": "code",
   "execution_count": null,
   "metadata": {},
   "outputs": [
    {
     "data": {
      "text/plain": [
       "true"
      ]
     },
     "metadata": {},
     "output_type": "display_data"
    }
   ],
   "source": [
    "Int <: Any"
   ]
  },
  {
   "cell_type": "code",
   "execution_count": null,
   "metadata": {},
   "outputs": [
    {
     "data": {
      "text/plain": [
       "true"
      ]
     },
     "metadata": {},
     "output_type": "display_data"
    }
   ],
   "source": [
    "String <: Any"
   ]
  },
  {
   "cell_type": "code",
   "execution_count": null,
   "metadata": {},
   "outputs": [
    {
     "data": {
      "text/plain": [
       "true"
      ]
     },
     "metadata": {},
     "output_type": "display_data"
    }
   ],
   "source": [
    "Vector{Float64} <: Any"
   ]
  },
  {
   "cell_type": "markdown",
   "metadata": {},
   "source": [
    "La relación `<:` satisface:\n",
    "\n",
    "1. Reflexividad: `A<:A` para todo tipo `A`\n",
    "2. Antisimetría: si `A<:B` y `B<:A`, entonces `A==B` para todo tipo `A` y `B`\n",
    "3. Transitividad: si `A<:B` y `B<:C`, entonces `A<:C` para todo tipo `A`, `B` y `C`\n",
    "\n",
    "Por lo tanto, `<:` es un orden parcial sobre los tipos, con `Any` como máximo. \n",
    "\n",
    "Los tipos puede visualizarse en un diagrama de Hasse. El siguiente es el diagrama de los tipos numéricos en la base de Julia:"
   ]
  },
  {
   "cell_type": "markdown",
   "metadata": {},
   "source": [
    "<div align=\"center\">\n",
    "  <img src=\"./img/tipos.png\" alt=\"Tipos numéricos en Julia\" width=\"850\"/>\n",
    "</div>\n",
    "\n",
    "Crédito de la imagen: [The Julia Express](https://github.com/bkamins/The-Julia-Express)"
   ]
  },
  {
   "cell_type": "markdown",
   "metadata": {},
   "source": [
    "### Tipos abstractos y concretos\n",
    "\n",
    "En Julia, los tipos se clasifican en **abstractos** y **concretos**.\n",
    "\n",
    "Los **tipos abstractos** son solo nodos en el diagrama de tipos. \n",
    "\n",
    "No tienen instancias. Es decir, no hay objetos cuyo tipo sea abstracto. Solo sirven para organizar los tipos en una jerarquía.\n",
    "\n",
    "Los tipos abstractos se declaran con `abstract type`. Por ejemplo, así es la implementación de los tipos numéricos en Julia:\n",
    "\n",
    "```julia\n",
    "abstract type Number end\n",
    "\n",
    "abstract type Real <: Number end\n",
    "\n",
    "abstract type AbstractFloat <: Real end\n",
    "abstract type Integer <: Real end\n",
    "\n",
    "abstract type Signed <: Integer end\n",
    "abstract type Unsigned <: Integer end\n",
    "```"
   ]
  },
  {
   "cell_type": "markdown",
   "metadata": {},
   "source": [
    "También se pueden crear nuevos tipos abstractos:"
   ]
  },
  {
   "cell_type": "code",
   "execution_count": 3,
   "metadata": {},
   "outputs": [],
   "source": [
    "abstract type Bebida end\n",
    "\n",
    "abstract type Cafe <: Bebida end\n",
    "abstract type Te <: Bebida end\n",
    "abstract type Vino <: Bebida end"
   ]
  },
  {
   "cell_type": "markdown",
   "metadata": {},
   "source": [
    "Los **tipos concretos** son los que pueden instanciarse y **no admiten subtipos**. \n",
    "\n",
    "Los tipos concretos permiten organizar datos. Pueden definirse tipos compuestos con `struct`:"
   ]
  },
  {
   "cell_type": "code",
   "execution_count": 13,
   "metadata": {},
   "outputs": [],
   "source": [
    "struct Expreso <: Cafe\n",
    "    marca::String\n",
    "    precio::Float64\n",
    "end"
   ]
  },
  {
   "cell_type": "markdown",
   "metadata": {},
   "source": [
    "Se instancian de la siguiente manera:"
   ]
  },
  {
   "cell_type": "code",
   "execution_count": null,
   "metadata": {},
   "outputs": [
    {
     "data": {
      "text/plain": [
       "Expreso(\"Cabrales\", 1300.0)"
      ]
     },
     "metadata": {},
     "output_type": "display_data"
    }
   ],
   "source": [
    "Expreso(\"Cabrales\", 1300.0)"
   ]
  },
  {
   "cell_type": "markdown",
   "metadata": {},
   "source": [
    "Y, como dijimos, no admiten subtipos:"
   ]
  },
  {
   "cell_type": "code",
   "execution_count": null,
   "metadata": {},
   "outputs": [
    {
     "ename": "LoadError",
     "evalue": "invalid subtyping in definition of Ristretto: can only subtype abstract types.",
     "output_type": "error",
     "traceback": [
      "invalid subtyping in definition of Ristretto: can only subtype abstract types.\n",
      "\n",
      "Stacktrace:\n",
      " [1] top-level scope\n",
      "   @ In[7]:1"
     ]
    }
   ],
   "source": [
    "struct Ristretto <: Expreso\n",
    "    marca::String\n",
    "    precio::Float64\n",
    "end"
   ]
  },
  {
   "cell_type": "markdown",
   "metadata": {},
   "source": [
    "Definidos de esta manera, los tipos son inmutables:"
   ]
  },
  {
   "cell_type": "code",
   "execution_count": 14,
   "metadata": {},
   "outputs": [
    {
     "ename": "LoadError",
     "evalue": "setfield!: immutable struct of type Expreso cannot be changed",
     "output_type": "error",
     "traceback": [
      "setfield!: immutable struct of type Expreso cannot be changed",
      "",
      "Stacktrace:",
      " [1] setproperty!(x::Expreso, f::Symbol, v::Int64)",
      "   @ Base ./Base.jl:38",
      " [2] top-level scope",
      "   @ In[14]:3"
     ]
    }
   ],
   "source": [
    "a = Expreso(\"Cabrales\", 1300)\n",
    "\n",
    "a.precio = 1500"
   ]
  },
  {
   "cell_type": "markdown",
   "metadata": {},
   "source": [
    "Usando `mutable struct` en lugar de `struct` podemos definir tipos concretos mutables"
   ]
  },
  {
   "cell_type": "code",
   "execution_count": 16,
   "metadata": {},
   "outputs": [
    {
     "data": {
      "text/plain": [
       "Americano(\"Cabrales\", 1300.0)"
      ]
     },
     "execution_count": 16,
     "metadata": {},
     "output_type": "execute_result"
    }
   ],
   "source": [
    "mutable struct Americano <: Cafe\n",
    "    marca::String\n",
    "    precio::Float64\n",
    "end\n",
    "\n",
    "a = Americano(\"Cabrales\", 1300)"
   ]
  },
  {
   "cell_type": "code",
   "execution_count": 18,
   "metadata": {},
   "outputs": [
    {
     "data": {
      "text/plain": [
       "Americano(\"Cabrales\", 1500.0)"
      ]
     },
     "execution_count": 18,
     "metadata": {},
     "output_type": "execute_result"
    }
   ],
   "source": [
    "a.precio = 1500\n",
    "a"
   ]
  },
  {
   "cell_type": "markdown",
   "metadata": {},
   "source": [
    "Por último, también podemos definir tipos concretos sin campos. Por ejemplo,"
   ]
  },
  {
   "cell_type": "code",
   "execution_count": 4,
   "metadata": {},
   "outputs": [],
   "source": [
    "struct Agua <: Bebida end"
   ]
  },
  {
   "cell_type": "markdown",
   "metadata": {},
   "source": [
    "Esta clase de tipos se denominan *singletons*, ya que solo tienen una instancia:"
   ]
  },
  {
   "cell_type": "code",
   "execution_count": 5,
   "metadata": {},
   "outputs": [
    {
     "data": {
      "text/plain": [
       "true"
      ]
     },
     "metadata": {},
     "output_type": "display_data"
    }
   ],
   "source": [
    "agua1 = Agua()\n",
    "agua2 = Agua()\n",
    "\n",
    "agua1 === agua2"
   ]
  },
  {
   "cell_type": "markdown",
   "metadata": {},
   "source": [
    "donde `===` es el operador de identidad, que verifica si dos variables refieren al mismo objeto (no si son iguales, sino idénticas). Por ejemplo, el famoso `nothing` de Julia es la instancia *singleton* de `Nothing`."
   ]
  },
  {
   "cell_type": "code",
   "execution_count": null,
   "metadata": {},
   "outputs": [],
   "source": []
  },
  {
   "cell_type": "markdown",
   "metadata": {},
   "source": []
  }
 ],
 "metadata": {
  "kernelspec": {
   "display_name": "Julia 1.10.1",
   "language": "julia",
   "name": "julia-1.10"
  },
  "language_info": {
   "file_extension": ".jl",
   "mimetype": "application/julia",
   "name": "julia",
   "version": "1.10.1"
  }
 },
 "nbformat": 4,
 "nbformat_minor": 2
}
