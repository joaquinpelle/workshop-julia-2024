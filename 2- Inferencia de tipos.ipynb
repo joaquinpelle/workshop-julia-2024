{
 "cells": [
  {
   "cell_type": "markdown",
   "metadata": {},
   "source": [
    "# Inferencia de tipos"
   ]
  },
  {
   "cell_type": "markdown",
   "metadata": {},
   "source": [
    "En lenguajes como C, el programador debe dar los tipos explícitamente. Por ejemplo, la siguiente función toma dos `double` y devuelve otro:\n",
    "\n",
    "```c\n",
    "double f(double x, double y) {\n",
    "    return 2*x + y;\n",
    "}\n",
    "```\n",
    "\n",
    "Los tipos de las variables se conocen porque el programador los especifica obligatoriamente. De este modo el compilador puede generar código que haga la operación de manera eficiente.\n",
    "\n",
    "Por el contrario, en lenguajes interpretados como Python, los tipos se chequean en tiempo de ejecución. Por ejemplo, tomemos el siguiente bloque de código:\n",
    "\n",
    "```python\n",
    "x = 1\n",
    "y = 2\n",
    "2*x + y\n",
    "```\n",
    "\n",
    "En la tercera línea, el intérprete de Python chequea el tipo de los objetos, y los usa para calcular el resultado. Esto genera dos fuentes de overhead:\n",
    "\n",
    " 1. El chequeo de tipos\n",
    " 2. La asignación de memoria dinámica, ya que es imposible saber cuánta memoria toma un valor, ni si seguirá tomando la misma cantidad de memoria en el futuro.\n",
    "\n",
    "La solución de Julia es un híbrido. El código en Julia se ve como el de Python:\n",
    "\n",
    "```julia\n",
    "x = 1\n",
    "y = 2\n",
    "2*x + y\n",
    "```\n",
    "\n",
    "Sin embargo, antes de la compilación, Julia ejecuta un algoritmo de inferencia de tipos. Dado que `x` es un `Int`, e `y` es un `Int`, puede inferir que `2*x+y` también es un `Int`, para así compilar el método más eficiente para realizar la operación posteriormente. \n",
    "\n",
    "Para escribir código rápido en Julia, es importante que el algoritmo de inferencia pueda inferir los tipos correctamente y que éstos sean concretos, lo que se denomina \"estabilidad con respecto al tipo\". Esta propiedad tiene dos ventajas que impactan en la performance: \n",
    "\n",
    "1. El código se compila a instrucciones rápidas `GOTO`\n",
    "2. Se conoce el espacio que ocupan las variables en memoria en tiempo de compilación\n",
    "\n",
    "El segundo punto implica que la memoria puede asignarse en el *stack* (la sección de la memoria de acceso prácticamente inmediato)\n",
    "\n",
    "Por el contrario, el código inestable corre con las siguientes desventajas: \n",
    "1. Cada llamado a una función debe recorrer la lista de métodos, buscando el que corresponde a los tipos de los argumentos\n",
    "2. No se conoce el tamaño en memoria de las variables en tiempo de compilación, por lo que se les asigna punteros en el *heap*, donde acceso es mucho más lento. "
   ]
  },
  {
   "cell_type": "markdown",
   "metadata": {},
   "source": [
    "Veamos ejemplos de esto en Julia. Definimos, por ejemplo, una suma estable con respecto al tipo:"
   ]
  },
  {
   "cell_type": "code",
   "execution_count": 9,
   "metadata": {},
   "outputs": [
    {
     "data": {
      "text/plain": [
       "suma_estable (generic function with 1 method)"
      ]
     },
     "execution_count": 9,
     "metadata": {},
     "output_type": "execute_result"
    }
   ],
   "source": [
    "suma_estable(x,y) = x + y"
   ]
  },
  {
   "cell_type": "markdown",
   "metadata": {},
   "source": [
    "Inspeccionemos el código LLVM (representación intermedia) al que se compila la suma cuando se llama con dos `Int`:"
   ]
  },
  {
   "cell_type": "code",
   "execution_count": 10,
   "metadata": {},
   "outputs": [
    {
     "name": "stdout",
     "output_type": "stream",
     "text": [
      "\u001b[90m;  @ In[9]:1 within `suma_estable`\u001b[39m\n",
      "\u001b[95mdefine\u001b[39m \u001b[36mi64\u001b[39m \u001b[93m@julia_suma_estable_2022\u001b[39m\u001b[33m(\u001b[39m\u001b[36mi64\u001b[39m \u001b[95msignext\u001b[39m \u001b[0m%0\u001b[0m, \u001b[36mi64\u001b[39m \u001b[95msignext\u001b[39m \u001b[0m%1\u001b[33m)\u001b[39m \u001b[0m#0 \u001b[33m{\u001b[39m\n",
      "\u001b[91mtop:\u001b[39m\n",
      "\u001b[90m; ┌ @ int.jl:87 within `+`\u001b[39m\n",
      "   \u001b[0m%2 \u001b[0m= \u001b[96m\u001b[1madd\u001b[22m\u001b[39m \u001b[36mi64\u001b[39m \u001b[0m%1\u001b[0m, \u001b[0m%0\n",
      "\u001b[90m; └\u001b[39m\n",
      "  \u001b[96m\u001b[1mret\u001b[22m\u001b[39m \u001b[36mi64\u001b[39m \u001b[0m%2\n",
      "\u001b[33m}\u001b[39m\n"
     ]
    }
   ],
   "source": [
    "@code_llvm suma_estable(1,2)"
   ]
  },
  {
   "cell_type": "markdown",
   "metadata": {},
   "source": [
    "Ahora, con dos `Float64`:"
   ]
  },
  {
   "cell_type": "code",
   "execution_count": 25,
   "metadata": {},
   "outputs": [
    {
     "name": "stdout",
     "output_type": "stream",
     "text": [
      "\u001b[90m;  @ In[24]:1 within `suma_estable`\u001b[39m\n",
      "\u001b[95mdefine\u001b[39m \u001b[36mdouble\u001b[39m \u001b[93m@julia_suma_estable_3176\u001b[39m\u001b[33m(\u001b[39m\u001b[36mdouble\u001b[39m \u001b[0m%0\u001b[0m, \u001b[36mdouble\u001b[39m \u001b[0m%1\u001b[33m)\u001b[39m \u001b[0m#0 \u001b[33m{\u001b[39m\n",
      "\u001b[91mtop:\u001b[39m\n",
      "\u001b[90m; ┌ @ float.jl:408 within `+`\u001b[39m\n",
      "   \u001b[0m%2 \u001b[0m= \u001b[96m\u001b[1mfadd\u001b[22m\u001b[39m \u001b[36mdouble\u001b[39m \u001b[0m%0\u001b[0m, \u001b[0m%1\n",
      "\u001b[90m; └\u001b[39m\n",
      "  \u001b[96m\u001b[1mret\u001b[22m\u001b[39m \u001b[36mdouble\u001b[39m \u001b[0m%2\n",
      "\u001b[33m}\u001b[39m\n"
     ]
    }
   ],
   "source": [
    "@code_llvm suma_estable(1.0,2.0)"
   ]
  },
  {
   "cell_type": "markdown",
   "metadata": {},
   "source": [
    "¿Qué pasa en el caso mixto?"
   ]
  },
  {
   "cell_type": "code",
   "execution_count": 26,
   "metadata": {},
   "outputs": [
    {
     "name": "stdout",
     "output_type": "stream",
     "text": [
      "\u001b[90m;  @ In[24]:1 within `suma_estable`\u001b[39m\n",
      "\u001b[95mdefine\u001b[39m \u001b[36mdouble\u001b[39m \u001b[93m@julia_suma_estable_3180\u001b[39m\u001b[33m(\u001b[39m\u001b[36mi64\u001b[39m \u001b[95msignext\u001b[39m \u001b[0m%0\u001b[0m, \u001b[36mdouble\u001b[39m \u001b[0m%1\u001b[33m)\u001b[39m \u001b[0m#0 \u001b[33m{\u001b[39m\n",
      "\u001b[91mtop:\u001b[39m\n",
      "\u001b[90m; ┌ @ promotion.jl:410 within `+`\u001b[39m\n",
      "\u001b[90m; │┌ @ promotion.jl:381 within `promote`\u001b[39m\n",
      "\u001b[90m; ││┌ @ promotion.jl:358 within `_promote`\u001b[39m\n",
      "\u001b[90m; │││┌ @ number.jl:7 within `convert`\u001b[39m\n",
      "\u001b[90m; ││││┌ @ float.jl:159 within `Float64`\u001b[39m\n",
      "       \u001b[0m%2 \u001b[0m= \u001b[96m\u001b[1msitofp\u001b[22m\u001b[39m \u001b[36mi64\u001b[39m \u001b[0m%0 \u001b[95mto\u001b[39m \u001b[36mdouble\u001b[39m\n",
      "\u001b[90m; │└└└└\u001b[39m\n",
      "\u001b[90m; │ @ promotion.jl:410 within `+` @ float.jl:408\u001b[39m\n",
      "   \u001b[0m%3 \u001b[0m= \u001b[96m\u001b[1mfadd\u001b[22m\u001b[39m \u001b[36mdouble\u001b[39m \u001b[0m%2\u001b[0m, \u001b[0m%1\n",
      "\u001b[90m; └\u001b[39m\n",
      "  \u001b[96m\u001b[1mret\u001b[22m\u001b[39m \u001b[36mdouble\u001b[39m \u001b[0m%3\n",
      "\u001b[33m}\u001b[39m\n"
     ]
    }
   ],
   "source": [
    "@code_llvm suma_estable(1, 2.0)"
   ]
  },
  {
   "cell_type": "markdown",
   "metadata": {},
   "source": [
    "Podemos usar `@code_warntype` para inspeccionar si el código es estable con respecto al tipo:"
   ]
  },
  {
   "cell_type": "code",
   "execution_count": 28,
   "metadata": {},
   "outputs": [
    {
     "name": "stdout",
     "output_type": "stream",
     "text": [
      "MethodInstance for suma_estable(::Float64, ::Float64)\n",
      "  from suma_estable(\u001b[90mx\u001b[39m, \u001b[90my\u001b[39m)\u001b[90m @\u001b[39m \u001b[90mMain\u001b[39m \u001b[90m\u001b[4mIn[24]:1\u001b[24m\u001b[39m\n",
      "Arguments\n",
      "  #self#\u001b[36m::Core.Const(suma_estable)\u001b[39m\n",
      "  x\u001b[36m::Float64\u001b[39m\n",
      "  y\u001b[36m::Float64\u001b[39m\n",
      "Body\u001b[36m::Float64\u001b[39m\n",
      "\u001b[90m1 ─\u001b[39m %1 = (x + y)\u001b[36m::Float64\u001b[39m\n",
      "\u001b[90m└──\u001b[39m      return %1\n",
      "\n"
     ]
    }
   ],
   "source": [
    "@code_warntype suma_estable(1.0,2.0)"
   ]
  },
  {
   "cell_type": "markdown",
   "metadata": {},
   "source": [
    "Definamos ahora una función inestable con respecto al tipo:"
   ]
  },
  {
   "cell_type": "code",
   "execution_count": 29,
   "metadata": {},
   "outputs": [
    {
     "data": {
      "text/plain": [
       "suma_inestable (generic function with 1 method)"
      ]
     },
     "execution_count": 29,
     "metadata": {},
     "output_type": "execute_result"
    }
   ],
   "source": [
    "function suma_inestable(x,y)\n",
    "    out = x + y\n",
    "    rand(Bool) ? out : Float64(out)\n",
    "end"
   ]
  },
  {
   "cell_type": "code",
   "execution_count": 30,
   "metadata": {},
   "outputs": [
    {
     "name": "stdout",
     "output_type": "stream",
     "text": [
      "MethodInstance for suma_inestable(::Int64, ::Int64)\n",
      "  from suma_inestable(\u001b[90mx\u001b[39m, \u001b[90my\u001b[39m)\u001b[90m @\u001b[39m \u001b[90mMain\u001b[39m \u001b[90m\u001b[4mIn[29]:1\u001b[24m\u001b[39m\n",
      "Arguments\n",
      "  #self#\u001b[36m::Core.Const(suma_inestable)\u001b[39m\n",
      "  x\u001b[36m::Int64\u001b[39m\n",
      "  y\u001b[36m::Int64\u001b[39m\n",
      "Locals\n",
      "  out\u001b[36m::Int64\u001b[39m\n",
      "Body\u001b[33m\u001b[1m::Union{Float64, Int64}\u001b[22m\u001b[39m\n",
      "\u001b[90m1 ─\u001b[39m      (out = x + y)\n",
      "\u001b[90m│  \u001b[39m %2 = Main.rand(Main.Bool)\u001b[36m::Bool\u001b[39m\n",
      "\u001b[90m└──\u001b[39m      goto #3 if not %2\n",
      "\u001b[90m2 ─\u001b[39m      return out\n",
      "\u001b[90m3 ─\u001b[39m %5 = Main.Float64(out)\u001b[36m::Float64\u001b[39m\n",
      "\u001b[90m└──\u001b[39m      return %5\n",
      "\n"
     ]
    }
   ],
   "source": [
    "@code_warntype suma_inestable(1,2)"
   ]
  },
  {
   "cell_type": "markdown",
   "metadata": {},
   "source": [
    "Un patrón más común que puede llevar a inestabilidad con respecto al tipo es el siguiente (tomado de la documentación de Julia):"
   ]
  },
  {
   "cell_type": "code",
   "execution_count": 11,
   "metadata": {},
   "outputs": [
    {
     "data": {
      "text/plain": [
       "pos (generic function with 1 method)"
      ]
     },
     "execution_count": 11,
     "metadata": {},
     "output_type": "execute_result"
    }
   ],
   "source": [
    "pos(x) = x < 0 ? 0 : x"
   ]
  },
  {
   "cell_type": "code",
   "execution_count": 12,
   "metadata": {},
   "outputs": [
    {
     "name": "stdout",
     "output_type": "stream",
     "text": [
      "MethodInstance for pos(::Float64)\n",
      "  from pos(\u001b[90mx\u001b[39m)\u001b[90m @\u001b[39m \u001b[90mMain\u001b[39m \u001b[90m\u001b[4mIn[11]:1\u001b[24m\u001b[39m\n",
      "Arguments\n",
      "  #self#\u001b[36m::Core.Const(pos)\u001b[39m\n",
      "  x\u001b[36m::Float64\u001b[39m\n",
      "Body\u001b[33m\u001b[1m::Union{Float64, Int64}\u001b[22m\u001b[39m\n",
      "\u001b[90m1 ─\u001b[39m %1 = (x < 0)\u001b[36m::Bool\u001b[39m\n",
      "\u001b[90m└──\u001b[39m      goto #3 if not %1\n",
      "\u001b[90m2 ─\u001b[39m      return 0\n",
      "\u001b[90m3 ─\u001b[39m      return x\n",
      "\n"
     ]
    }
   ],
   "source": [
    "@code_warntype pos(1.0)"
   ]
  },
  {
   "cell_type": "markdown",
   "metadata": {},
   "source": [
    "La solución estable sería la siguiente:"
   ]
  },
  {
   "cell_type": "code",
   "execution_count": 13,
   "metadata": {},
   "outputs": [
    {
     "data": {
      "text/plain": [
       "pos (generic function with 1 method)"
      ]
     },
     "execution_count": 13,
     "metadata": {},
     "output_type": "execute_result"
    }
   ],
   "source": [
    "pos(x) = x < 0 ? zero(x) : x"
   ]
  },
  {
   "cell_type": "code",
   "execution_count": 14,
   "metadata": {},
   "outputs": [
    {
     "name": "stdout",
     "output_type": "stream",
     "text": [
      "MethodInstance for pos(::Float64)\n",
      "  from pos(\u001b[90mx\u001b[39m)\u001b[90m @\u001b[39m \u001b[90mMain\u001b[39m \u001b[90m\u001b[4mIn[13]:1\u001b[24m\u001b[39m\n",
      "Arguments\n",
      "  #self#\u001b[36m::Core.Const(pos)\u001b[39m\n",
      "  x\u001b[36m::Float64\u001b[39m\n",
      "Body\u001b[36m::Float64\u001b[39m\n",
      "\u001b[90m1 ─\u001b[39m %1 = (x < 0)\u001b[36m::Bool\u001b[39m\n",
      "\u001b[90m└──\u001b[39m      goto #3 if not %1\n",
      "\u001b[90m2 ─\u001b[39m %3 = Main.zero(x)\u001b[36m::Core.Const(0.0)\u001b[39m\n",
      "\u001b[90m└──\u001b[39m      return %3\n",
      "\u001b[90m3 ─\u001b[39m      return x\n",
      "\n"
     ]
    }
   ],
   "source": [
    "@code_warntype pos(1.0)"
   ]
  },
  {
   "cell_type": "markdown",
   "metadata": {},
   "source": [
    "### Funciones barrera"
   ]
  },
  {
   "cell_type": "markdown",
   "metadata": {},
   "source": [
    "Tomemos el siguiente ejemplo de una función inestable de la documentación de Julia:"
   ]
  },
  {
   "cell_type": "code",
   "execution_count": 8,
   "metadata": {},
   "outputs": [
    {
     "data": {
      "text/plain": [
       "strange_twos (generic function with 1 method)"
      ]
     },
     "execution_count": 8,
     "metadata": {},
     "output_type": "execute_result"
    }
   ],
   "source": [
    "function strange_twos(n)\n",
    "    a = Vector{rand(Bool) ? Int64 : Float64}(undef, n)\n",
    "    for i = 1:n\n",
    "        a[i] = 2\n",
    "    end\n",
    "    return a\n",
    "end"
   ]
  },
  {
   "cell_type": "code",
   "execution_count": 18,
   "metadata": {},
   "outputs": [
    {
     "data": {
      "text/plain": [
       "3-element Vector{Float64}:\n",
       " 2.0\n",
       " 2.0\n",
       " 2.0"
      ]
     },
     "execution_count": 18,
     "metadata": {},
     "output_type": "execute_result"
    }
   ],
   "source": [
    "strange_twos(3)"
   ]
  },
  {
   "cell_type": "code",
   "execution_count": 19,
   "metadata": {},
   "outputs": [
    {
     "name": "stdout",
     "output_type": "stream",
     "text": [
      "MethodInstance for strange_twos(::Int64)\n",
      "  from strange_twos(\u001b[90mn\u001b[39m)\u001b[90m @\u001b[39m \u001b[90mMain\u001b[39m \u001b[90m\u001b[4mIn[8]:1\u001b[24m\u001b[39m\n",
      "Arguments\n",
      "  #self#\u001b[36m::Core.Const(strange_twos)\u001b[39m\n",
      "  n\u001b[36m::Int64\u001b[39m\n",
      "Locals\n",
      "  @_3\u001b[33m\u001b[1m::Union{Nothing, Tuple{Int64, Int64}}\u001b[22m\u001b[39m\n",
      "  a\u001b[91m\u001b[1m::Vector\u001b[22m\u001b[39m\n",
      "  i\u001b[36m::Int64\u001b[39m\n",
      "  @_6\u001b[33m\u001b[1m::Union{Type{Float64}, Type{Int64}}\u001b[22m\u001b[39m\n",
      "Body\u001b[91m\u001b[1m::Vector\u001b[22m\u001b[39m\n",
      "\u001b[90m1 ─\u001b[39m       Core.NewvarNode(:(@_3))\n",
      "\u001b[90m│  \u001b[39m       Core.NewvarNode(:(a))\n",
      "\u001b[90m│  \u001b[39m %3  = Main.Vector\u001b[36m::Core.Const(Vector)\u001b[39m\n",
      "\u001b[90m│  \u001b[39m %4  = Main.rand(Main.Bool)\u001b[36m::Bool\u001b[39m\n",
      "\u001b[90m└──\u001b[39m       goto #3 if not %4\n",
      "\u001b[90m2 ─\u001b[39m       (@_6 = Main.Int64)\n",
      "\u001b[90m└──\u001b[39m       goto #4\n",
      "\u001b[90m3 ─\u001b[39m       (@_6 = Main.Float64)\n",
      "\u001b[90m4 ┄\u001b[39m %9  = @_6\u001b[33m\u001b[1m::Union{Type{Float64}, Type{Int64}}\u001b[22m\u001b[39m\n",
      "\u001b[90m│  \u001b[39m %10 = Core.apply_type(%3, %9)\u001b[91m\u001b[1m::Type{Vector{_A}} where _A\u001b[22m\u001b[39m\n",
      "\u001b[90m│  \u001b[39m %11 = Main.undef\u001b[36m::Core.Const(UndefInitializer())\u001b[39m\n",
      "\u001b[90m│  \u001b[39m       (a = (%10)(%11, n))\n",
      "\u001b[90m│  \u001b[39m %13 = (1:n)\u001b[36m::Core.PartialStruct(UnitRange{Int64}, Any[Core.Const(1), Int64])\u001b[39m\n",
      "\u001b[90m│  \u001b[39m       (@_3 = Base.iterate(%13))\n",
      "\u001b[90m│  \u001b[39m %15 = (@_3 === nothing)\u001b[36m::Bool\u001b[39m\n",
      "\u001b[90m│  \u001b[39m %16 = Base.not_int(%15)\u001b[36m::Bool\u001b[39m\n",
      "\u001b[90m└──\u001b[39m       goto #7 if not %16\n",
      "\u001b[90m5 ┄\u001b[39m %18 = @_3\u001b[36m::Tuple{Int64, Int64}\u001b[39m\n",
      "\u001b[90m│  \u001b[39m       (i = Core.getfield(%18, 1))\n",
      "\u001b[90m│  \u001b[39m %20 = Core.getfield(%18, 2)\u001b[36m::Int64\u001b[39m\n",
      "\u001b[90m│  \u001b[39m       Base.setindex!(a, 2, i)\n",
      "\u001b[90m│  \u001b[39m       (@_3 = Base.iterate(%13, %20))\n",
      "\u001b[90m│  \u001b[39m %23 = (@_3 === nothing)\u001b[36m::Bool\u001b[39m\n",
      "\u001b[90m│  \u001b[39m %24 = Base.not_int(%23)\u001b[36m::Bool\u001b[39m\n",
      "\u001b[90m└──\u001b[39m       goto #7 if not %24\n",
      "\u001b[90m6 ─\u001b[39m       goto #5\n",
      "\u001b[90m7 ┄\u001b[39m       return a\n",
      "\n"
     ]
    }
   ],
   "source": [
    "@code_warntype strange_twos(3)"
   ]
  },
  {
   "cell_type": "markdown",
   "metadata": {},
   "source": [
    "La inferencia de tipos ocurre en las fronteras entre funciones. Por lo tanto, introducir un llamado a una *función barrera* aliviana el problema, dando un nuevo punto de referencia para la inferencia de tipos."
   ]
  },
  {
   "cell_type": "code",
   "execution_count": 21,
   "metadata": {},
   "outputs": [
    {
     "data": {
      "text/plain": [
       "strange_twos (generic function with 1 method)"
      ]
     },
     "execution_count": 21,
     "metadata": {},
     "output_type": "execute_result"
    }
   ],
   "source": [
    "function fill_twos!(a)\n",
    "    for i = eachindex(a)\n",
    "        a[i] = 2\n",
    "    end\n",
    "end\n",
    "\n",
    "function strange_twos(n)\n",
    "    a = Vector{rand(Bool) ? Int64 : Float64}(undef, n)\n",
    "    fill_twos!(a)\n",
    "    return a\n",
    "end"
   ]
  },
  {
   "cell_type": "markdown",
   "metadata": {},
   "source": [
    "Esta segunda versión es más rápida que la anterior, porque la función `fill_twos!` puede recompilarse para distintos tipos de `a`."
   ]
  }
 ],
 "metadata": {
  "kernelspec": {
   "display_name": "Julia 1.9.1",
   "language": "julia",
   "name": "julia-1.9"
  },
  "language_info": {
   "file_extension": ".jl",
   "mimetype": "application/julia",
   "name": "julia",
   "version": "1.9.1"
  }
 },
 "nbformat": 4,
 "nbformat_minor": 2
}
